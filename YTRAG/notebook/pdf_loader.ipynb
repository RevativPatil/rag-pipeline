{
 "cells": [
  {
   "cell_type": "markdown",
   "id": "29eb71a8",
   "metadata": {},
   "source": [
    "embedding And vectorStoreDB\n"
   ]
  },
  {
   "cell_type": "code",
   "execution_count": 2,
   "id": "8bdd1ba9",
   "metadata": {},
   "outputs": [
    {
     "name": "stdout",
     "output_type": "stream",
     "text": [
      "Requirement already satisfied: langchain_community in /Library/Frameworks/Python.framework/Versions/3.13/lib/python3.13/site-packages (0.3.29)\n",
      "Collecting pypdf\n",
      "  Downloading pypdf-6.0.0-py3-none-any.whl.metadata (7.1 kB)\n",
      "Requirement already satisfied: langchain-core<2.0.0,>=0.3.75 in /Library/Frameworks/Python.framework/Versions/3.13/lib/python3.13/site-packages (from langchain_community) (0.3.76)\n",
      "Requirement already satisfied: langchain<2.0.0,>=0.3.27 in /Library/Frameworks/Python.framework/Versions/3.13/lib/python3.13/site-packages (from langchain_community) (0.3.27)\n",
      "Requirement already satisfied: SQLAlchemy<3,>=1.4 in /Library/Frameworks/Python.framework/Versions/3.13/lib/python3.13/site-packages (from langchain_community) (2.0.43)\n",
      "Requirement already satisfied: requests<3,>=2.32.5 in /Library/Frameworks/Python.framework/Versions/3.13/lib/python3.13/site-packages (from langchain_community) (2.32.5)\n",
      "Requirement already satisfied: PyYAML>=5.3 in /Library/Frameworks/Python.framework/Versions/3.13/lib/python3.13/site-packages (from langchain_community) (6.0.2)\n",
      "Requirement already satisfied: aiohttp<4.0.0,>=3.8.3 in /Library/Frameworks/Python.framework/Versions/3.13/lib/python3.13/site-packages (from langchain_community) (3.12.15)\n",
      "Requirement already satisfied: tenacity!=8.4.0,<10,>=8.1.0 in /Library/Frameworks/Python.framework/Versions/3.13/lib/python3.13/site-packages (from langchain_community) (9.1.2)\n",
      "Requirement already satisfied: dataclasses-json<0.7,>=0.6.7 in /Library/Frameworks/Python.framework/Versions/3.13/lib/python3.13/site-packages (from langchain_community) (0.6.7)\n",
      "Requirement already satisfied: pydantic-settings<3.0.0,>=2.10.1 in /Library/Frameworks/Python.framework/Versions/3.13/lib/python3.13/site-packages (from langchain_community) (2.10.1)\n",
      "Requirement already satisfied: langsmith>=0.1.125 in /Library/Frameworks/Python.framework/Versions/3.13/lib/python3.13/site-packages (from langchain_community) (0.4.27)\n",
      "Requirement already satisfied: httpx-sse<1.0.0,>=0.4.0 in /Library/Frameworks/Python.framework/Versions/3.13/lib/python3.13/site-packages (from langchain_community) (0.4.1)\n",
      "Requirement already satisfied: numpy>=2.1.0 in /Library/Frameworks/Python.framework/Versions/3.13/lib/python3.13/site-packages (from langchain_community) (2.3.2)\n",
      "Requirement already satisfied: aiohappyeyeballs>=2.5.0 in /Library/Frameworks/Python.framework/Versions/3.13/lib/python3.13/site-packages (from aiohttp<4.0.0,>=3.8.3->langchain_community) (2.6.1)\n",
      "Requirement already satisfied: aiosignal>=1.4.0 in /Library/Frameworks/Python.framework/Versions/3.13/lib/python3.13/site-packages (from aiohttp<4.0.0,>=3.8.3->langchain_community) (1.4.0)\n",
      "Requirement already satisfied: attrs>=17.3.0 in /Library/Frameworks/Python.framework/Versions/3.13/lib/python3.13/site-packages (from aiohttp<4.0.0,>=3.8.3->langchain_community) (25.3.0)\n",
      "Requirement already satisfied: frozenlist>=1.1.1 in /Library/Frameworks/Python.framework/Versions/3.13/lib/python3.13/site-packages (from aiohttp<4.0.0,>=3.8.3->langchain_community) (1.7.0)\n",
      "Requirement already satisfied: multidict<7.0,>=4.5 in /Library/Frameworks/Python.framework/Versions/3.13/lib/python3.13/site-packages (from aiohttp<4.0.0,>=3.8.3->langchain_community) (6.6.4)\n",
      "Requirement already satisfied: propcache>=0.2.0 in /Library/Frameworks/Python.framework/Versions/3.13/lib/python3.13/site-packages (from aiohttp<4.0.0,>=3.8.3->langchain_community) (0.3.2)\n",
      "Requirement already satisfied: yarl<2.0,>=1.17.0 in /Library/Frameworks/Python.framework/Versions/3.13/lib/python3.13/site-packages (from aiohttp<4.0.0,>=3.8.3->langchain_community) (1.20.1)\n",
      "Requirement already satisfied: marshmallow<4.0.0,>=3.18.0 in /Library/Frameworks/Python.framework/Versions/3.13/lib/python3.13/site-packages (from dataclasses-json<0.7,>=0.6.7->langchain_community) (3.26.1)\n",
      "Requirement already satisfied: typing-inspect<1,>=0.4.0 in /Library/Frameworks/Python.framework/Versions/3.13/lib/python3.13/site-packages (from dataclasses-json<0.7,>=0.6.7->langchain_community) (0.9.0)\n",
      "Requirement already satisfied: langchain-text-splitters<1.0.0,>=0.3.9 in /Library/Frameworks/Python.framework/Versions/3.13/lib/python3.13/site-packages (from langchain<2.0.0,>=0.3.27->langchain_community) (0.3.11)\n",
      "Requirement already satisfied: pydantic<3.0.0,>=2.7.4 in /Library/Frameworks/Python.framework/Versions/3.13/lib/python3.13/site-packages (from langchain<2.0.0,>=0.3.27->langchain_community) (2.11.7)\n",
      "Requirement already satisfied: jsonpatch<2.0,>=1.33 in /Library/Frameworks/Python.framework/Versions/3.13/lib/python3.13/site-packages (from langchain-core<2.0.0,>=0.3.75->langchain_community) (1.33)\n",
      "Requirement already satisfied: typing-extensions>=4.7 in /Library/Frameworks/Python.framework/Versions/3.13/lib/python3.13/site-packages (from langchain-core<2.0.0,>=0.3.75->langchain_community) (4.15.0)\n",
      "Requirement already satisfied: packaging>=23.2 in /Library/Frameworks/Python.framework/Versions/3.13/lib/python3.13/site-packages (from langchain-core<2.0.0,>=0.3.75->langchain_community) (24.2)\n",
      "Requirement already satisfied: jsonpointer>=1.9 in /Library/Frameworks/Python.framework/Versions/3.13/lib/python3.13/site-packages (from jsonpatch<2.0,>=1.33->langchain-core<2.0.0,>=0.3.75->langchain_community) (3.0.0)\n",
      "Requirement already satisfied: annotated-types>=0.6.0 in /Library/Frameworks/Python.framework/Versions/3.13/lib/python3.13/site-packages (from pydantic<3.0.0,>=2.7.4->langchain<2.0.0,>=0.3.27->langchain_community) (0.7.0)\n",
      "Requirement already satisfied: pydantic-core==2.33.2 in /Library/Frameworks/Python.framework/Versions/3.13/lib/python3.13/site-packages (from pydantic<3.0.0,>=2.7.4->langchain<2.0.0,>=0.3.27->langchain_community) (2.33.2)\n",
      "Requirement already satisfied: typing-inspection>=0.4.0 in /Library/Frameworks/Python.framework/Versions/3.13/lib/python3.13/site-packages (from pydantic<3.0.0,>=2.7.4->langchain<2.0.0,>=0.3.27->langchain_community) (0.4.1)\n",
      "Requirement already satisfied: python-dotenv>=0.21.0 in /Library/Frameworks/Python.framework/Versions/3.13/lib/python3.13/site-packages (from pydantic-settings<3.0.0,>=2.10.1->langchain_community) (1.1.1)\n",
      "Requirement already satisfied: charset_normalizer<4,>=2 in /Library/Frameworks/Python.framework/Versions/3.13/lib/python3.13/site-packages (from requests<3,>=2.32.5->langchain_community) (3.4.3)\n",
      "Requirement already satisfied: idna<4,>=2.5 in /Library/Frameworks/Python.framework/Versions/3.13/lib/python3.13/site-packages (from requests<3,>=2.32.5->langchain_community) (3.10)\n",
      "Requirement already satisfied: urllib3<3,>=1.21.1 in /Library/Frameworks/Python.framework/Versions/3.13/lib/python3.13/site-packages (from requests<3,>=2.32.5->langchain_community) (2.5.0)\n",
      "Requirement already satisfied: certifi>=2017.4.17 in /Library/Frameworks/Python.framework/Versions/3.13/lib/python3.13/site-packages (from requests<3,>=2.32.5->langchain_community) (2025.8.3)\n",
      "Requirement already satisfied: mypy-extensions>=0.3.0 in /Library/Frameworks/Python.framework/Versions/3.13/lib/python3.13/site-packages (from typing-inspect<1,>=0.4.0->dataclasses-json<0.7,>=0.6.7->langchain_community) (1.1.0)\n",
      "Requirement already satisfied: httpx<1,>=0.23.0 in /Library/Frameworks/Python.framework/Versions/3.13/lib/python3.13/site-packages (from langsmith>=0.1.125->langchain_community) (0.28.1)\n",
      "Requirement already satisfied: orjson>=3.9.14 in /Library/Frameworks/Python.framework/Versions/3.13/lib/python3.13/site-packages (from langsmith>=0.1.125->langchain_community) (3.11.3)\n",
      "Requirement already satisfied: requests-toolbelt>=1.0.0 in /Library/Frameworks/Python.framework/Versions/3.13/lib/python3.13/site-packages (from langsmith>=0.1.125->langchain_community) (1.0.0)\n",
      "Requirement already satisfied: zstandard>=0.23.0 in /Library/Frameworks/Python.framework/Versions/3.13/lib/python3.13/site-packages (from langsmith>=0.1.125->langchain_community) (0.24.0)\n",
      "Requirement already satisfied: anyio in /Library/Frameworks/Python.framework/Versions/3.13/lib/python3.13/site-packages (from httpx<1,>=0.23.0->langsmith>=0.1.125->langchain_community) (4.10.0)\n",
      "Requirement already satisfied: httpcore==1.* in /Library/Frameworks/Python.framework/Versions/3.13/lib/python3.13/site-packages (from httpx<1,>=0.23.0->langsmith>=0.1.125->langchain_community) (1.0.9)\n",
      "Requirement already satisfied: h11>=0.16 in /Library/Frameworks/Python.framework/Versions/3.13/lib/python3.13/site-packages (from httpcore==1.*->httpx<1,>=0.23.0->langsmith>=0.1.125->langchain_community) (0.16.0)\n",
      "Requirement already satisfied: sniffio>=1.1 in /Library/Frameworks/Python.framework/Versions/3.13/lib/python3.13/site-packages (from anyio->httpx<1,>=0.23.0->langsmith>=0.1.125->langchain_community) (1.3.1)\n",
      "Downloading pypdf-6.0.0-py3-none-any.whl (310 kB)\n",
      "Installing collected packages: pypdf\n",
      "Successfully installed pypdf-6.0.0\n"
     ]
    }
   ],
   "source": [
    "!pip3 install langchain_community pypdf\n"
   ]
  },
  {
   "cell_type": "code",
   "execution_count": 5,
   "id": "2a55d4e0",
   "metadata": {},
   "outputs": [
    {
     "name": "stdout",
     "output_type": "stream",
     "text": [
      "[Document(metadata={'producer': 'Skia/PDF m140 Google Docs Renderer', 'creator': 'PyPDF', 'creationdate': '', 'title': 'Bonish Agarwal - Resume', 'source': '/Users/vrushalipatil/Downloads/Revati_Resume.pdf', 'total_pages': 1, 'page': 0, 'page_label': '1'}, page_content='Revati  Patil  MCA  graduate  with  strong  knowledge  of  frontend  and  backend  development,  eager  to  apply  \\ntechnical\\n \\nskills\\n \\nto\\n \\nreal-world\\n \\nprojects.\\n \\n revatip290@gmail.com   +91  9579412102  g i t h u b . c o m / R e v a t i v P a t i l   l i n k e d i n . c o m / i n / r e v a t i - v - p a t i l /  \\nWORK  EXPERIENCE Humming  Byte  Pvt.Ltd Web  Development  Intern   June  2023  -  Present •  Developed  and  maintained  responsive  full-stack  web  applications  using  Node.js ,  React.js ,  and  modern  \\nframeworks.\\n •  Integrated  Firebase  backend  services,  implementing  secure  authentication  and  real-time  database  \\nfunctionalities.\\n •  Enhanced  UI/UX  with  CSS ,  and  optimized  REST  API  performance  to  improve  application  eﬃciency  by  \\nreducing\\n \\nresponse\\n \\ntime.\\n  EDUCATION MES  Abasaheb  Garware  College,  Pune Master  of  Computer  Application  (MCA)  -  7.16/  10  Aug  2023  -  May  2025  B.S.C  Computer  Science  C.M.C.S.College,  Nashik                                                                                                                    July  2020  -  May  2023  HSC  JR  Khandelwal  College,  Dhule                                                                                                          July  2019  -  June  2020    PROJECT Old  Age  Home  Management  System •  Designed  and  developed  a  Java-based  desktop  application  for  resident  registration,  medication  \\nscheduling,\\n \\nand\\n \\nstaff\\n \\nmanagement.\\n •  Built  a  user-friendly  interface  using  Java  Swing  and  implemented  secure  database  integration  with  JDBC .  •  Automated  manual  workﬂows,  improving  eﬃciency  and  reducing  operational  errors  by  30% \\nTenant  Management  System •  Developed  a  full-stack  web  application  to  manage  interactions  between  tenants  and  house  owners ,  \\nsupporting\\n \\nregistration\\n \\nof\\n \\npersonal\\n \\nand\\n \\nproperty\\n \\ndetails.\\n •  Enabled  house  owners  to  manage  bookings,  track  rent  status,  and  send  automated  payment  reminders  to  \\ntenants\\n •  Implemented  secure  authentication,  responsive  UI,  and  eﬃcient  database  management  for  streamlined  \\noperations.\\n  SKILLS •  Programming  Languages  &  Frameworks:  C/C++,  Java , Node.js,  React.js,  Express.js,  Python  (Beginner)  •  Databases:  MongoDB,  NoSQL  •  Tools:  GitHub,  VS  code  •  Engineering  Practices:  RESTful  APIs,  Responsive  Web  Design,  UI/UX,  Enhancement')]\n"
     ]
    }
   ],
   "source": [
    "from langchain_community.document_loaders import PyPDFLoader\n",
    "\n",
    "# Path to your PDF file (local)\n",
    "loader = PyPDFLoader(\"/Users/vrushalipatil/Downloads/Revati_Resume.pdf\")\n",
    "\n",
    "# Load PDF into documents\n",
    "docs = loader.load()\n",
    "print(docs)\n"
   ]
  },
  {
   "cell_type": "code",
   "execution_count": 6,
   "id": "a26dae95",
   "metadata": {},
   "outputs": [
    {
     "name": "stdout",
     "output_type": "stream",
     "text": [
      "✅ Loaded 1 pages from PDF\n",
      "page_content='Revati  Patil  MCA  graduate  with  strong  knowledge  of  frontend  and  backend  development,  eager  to  apply  \n",
      "technical\n",
      " \n",
      "skills\n",
      " \n",
      "to\n",
      " \n",
      "real-world\n",
      " \n",
      "projects.\n",
      " \n",
      " revatip290@gmail.com   +91  9579412102  g i t h u b . c o m / R e v a t i v P a t i l   l i n k e d i n . c o m / i n / r e v a t i - v - p a t i l /  \n",
      "WORK  EXPERIENCE Humming  Byte  Pvt.Ltd Web  Development  Intern   June  2023  -  Present •  Developed  and  maintained  responsive  full-stack  web  applications  using  Node.js ,  React.js ,  and  modern  \n",
      "frameworks.\n",
      " •  Integrated  Firebase  backend  services,  implementing  secure  authentication  and  real-time  database  \n",
      "functionalities.\n",
      " •  Enhanced  UI/UX  with  CSS ,  and  optimized  REST  API  performance  to  improve  application  eﬃciency  by  \n",
      "reducing\n",
      " \n",
      "response\n",
      " \n",
      "time.\n",
      "  EDUCATION MES  Abasaheb  Garware  College,  Pune Master  of  Computer  Application  (MCA)  -  7.16/  10  Aug  2023  -  May  2025  B.S.C  Computer  Science  C.M.C.S.College,  Nashik                                                                                                                    July  2020  -  May  2023  HSC  JR  Khandelwal  College,  Dhule                                                                                                          July  2019  -  June  2020    PROJECT Old  Age  Home  Management  System •  Designed  and  developed  a  Java-based  desktop  application  for  resident  registration,  medication  \n",
      "scheduling,\n",
      " \n",
      "and\n",
      " \n",
      "staff\n",
      " \n",
      "management.\n",
      " •  Built  a  user-friendly  interface  using  Java  Swing  and  implemented  secure  database  integration  with  JDBC .  •  Automated  manual  workﬂows,  improving  eﬃciency  and  reducing  operational  errors  by  30% \n",
      "Tenant  Management  System •  Developed  a  full-stack  web  application  to  manage  interactions  between  tenants  and  house  owners ,  \n",
      "supporting\n",
      " \n",
      "registration\n",
      " \n",
      "of\n",
      " \n",
      "personal\n",
      " \n",
      "and\n",
      " \n",
      "property\n",
      " \n",
      "details.\n",
      " •  Enabled  house  owners  to  manage  bookings,  track  rent  status,  and  send  automated  payment  reminders  to  \n",
      "tenants\n",
      " •  Implemented  secure  authentication,  responsive  UI,  and  eﬃcient  database  management  for  streamlined  \n",
      "operations.\n",
      "  SKILLS •  Programming  Languages  &  Frameworks:  C/C++,  Java , Node.js,  React.js,  Express.js,  Python  (Beginner)  •  Databases:  MongoDB,  NoSQL  •  Tools:  GitHub,  VS  code  •  Engineering  Practices:  RESTful  APIs,  Responsive  Web  Design,  UI/UX,  Enhancement' metadata={'producer': 'Skia/PDF m140 Google Docs Renderer', 'creator': 'PyPDF', 'creationdate': '', 'title': 'Bonish Agarwal - Resume', 'source': '/Users/vrushalipatil/Downloads/Revati_Resume.pdf', 'total_pages': 1, 'page': 0, 'page_label': '1'}\n"
     ]
    }
   ],
   "source": [
    "print(f\"✅ Loaded {len(docs)} pages from PDF\")\n",
    "print(docs[0])"
   ]
  },
  {
   "cell_type": "code",
   "execution_count": 7,
   "id": "891997d4",
   "metadata": {},
   "outputs": [
    {
     "name": "stdout",
     "output_type": "stream",
     "text": [
      "✅ Created 3 chunks\n"
     ]
    }
   ],
   "source": [
    "from langchain.text_splitter import RecursiveCharacterTextSplitter\n",
    "text_splitter = RecursiveCharacterTextSplitter(chunk_size=1000, chunk_overlap=200)\n",
    "splits = text_splitter.split_documents(docs)\n",
    "print(f\"✅ Created {len(splits)} chunks\")"
   ]
  },
  {
   "cell_type": "code",
   "execution_count": 8,
   "id": "f859b660",
   "metadata": {},
   "outputs": [
    {
     "name": "stdout",
     "output_type": "stream",
     "text": [
      "page_content='Revati  Patil  MCA  graduate  with  strong  knowledge  of  frontend  and  backend  development,  eager  to  apply  \n",
      "technical\n",
      " \n",
      "skills\n",
      " \n",
      "to\n",
      " \n",
      "real-world\n",
      " \n",
      "projects.\n",
      " \n",
      " revatip290@gmail.com   +91  9579412102  g i t h u b . c o m / R e v a t i v P a t i l   l i n k e d i n . c o m / i n / r e v a t i - v - p a t i l /  \n",
      "WORK  EXPERIENCE Humming  Byte  Pvt.Ltd Web  Development  Intern   June  2023  -  Present •  Developed  and  maintained  responsive  full-stack  web  applications  using  Node.js ,  React.js ,  and  modern  \n",
      "frameworks.\n",
      " •  Integrated  Firebase  backend  services,  implementing  secure  authentication  and  real-time  database  \n",
      "functionalities.\n",
      " •  Enhanced  UI/UX  with  CSS ,  and  optimized  REST  API  performance  to  improve  application  eﬃciency  by  \n",
      "reducing\n",
      " \n",
      "response\n",
      " \n",
      "time.' metadata={'producer': 'Skia/PDF m140 Google Docs Renderer', 'creator': 'PyPDF', 'creationdate': '', 'title': 'Bonish Agarwal - Resume', 'source': '/Users/vrushalipatil/Downloads/Revati_Resume.pdf', 'total_pages': 1, 'page': 0, 'page_label': '1'}\n",
      "page_content='functionalities.\n",
      " •  Enhanced  UI/UX  with  CSS ,  and  optimized  REST  API  performance  to  improve  application  eﬃciency  by  \n",
      "reducing\n",
      " \n",
      "response\n",
      " \n",
      "time.\n",
      "  EDUCATION MES  Abasaheb  Garware  College,  Pune Master  of  Computer  Application  (MCA)  -  7.16/  10  Aug  2023  -  May  2025  B.S.C  Computer  Science  C.M.C.S.College,  Nashik                                                                                                                    July  2020  -  May  2023  HSC  JR  Khandelwal  College,  Dhule                                                                                                          July  2019  -  June  2020    PROJECT Old  Age  Home  Management  System •  Designed  and  developed  a  Java-based  desktop  application  for  resident  registration,  medication  \n",
      "scheduling,\n",
      " \n",
      "and\n",
      " \n",
      "staff\n",
      " \n",
      "management.' metadata={'producer': 'Skia/PDF m140 Google Docs Renderer', 'creator': 'PyPDF', 'creationdate': '', 'title': 'Bonish Agarwal - Resume', 'source': '/Users/vrushalipatil/Downloads/Revati_Resume.pdf', 'total_pages': 1, 'page': 0, 'page_label': '1'}\n",
      "page_content='scheduling,\n",
      " \n",
      "and\n",
      " \n",
      "staff\n",
      " \n",
      "management.\n",
      " •  Built  a  user-friendly  interface  using  Java  Swing  and  implemented  secure  database  integration  with  JDBC .  •  Automated  manual  workﬂows,  improving  eﬃciency  and  reducing  operational  errors  by  30% \n",
      "Tenant  Management  System •  Developed  a  full-stack  web  application  to  manage  interactions  between  tenants  and  house  owners ,  \n",
      "supporting\n",
      " \n",
      "registration\n",
      " \n",
      "of\n",
      " \n",
      "personal\n",
      " \n",
      "and\n",
      " \n",
      "property\n",
      " \n",
      "details.\n",
      " •  Enabled  house  owners  to  manage  bookings,  track  rent  status,  and  send  automated  payment  reminders  to  \n",
      "tenants\n",
      " •  Implemented  secure  authentication,  responsive  UI,  and  eﬃcient  database  management  for  streamlined  \n",
      "operations.\n",
      "  SKILLS •  Programming  Languages  &  Frameworks:  C/C++,  Java , Node.js,  React.js,  Express.js,  Python  (Beginner)  •  Databases:  MongoDB,  NoSQL  •  Tools:  GitHub,  VS  code  •  Engineering  Practices:  RESTful  APIs,  Responsive  Web  Design,  UI/UX,  Enhancement' metadata={'producer': 'Skia/PDF m140 Google Docs Renderer', 'creator': 'PyPDF', 'creationdate': '', 'title': 'Bonish Agarwal - Resume', 'source': '/Users/vrushalipatil/Downloads/Revati_Resume.pdf', 'total_pages': 1, 'page': 0, 'page_label': '1'}\n"
     ]
    }
   ],
   "source": [
    "print(splits[0])\n",
    "print(splits[1])\n",
    "print(splits[2])"
   ]
  },
  {
   "cell_type": "code",
   "execution_count": 9,
   "id": "70b41530",
   "metadata": {},
   "outputs": [
    {
     "name": "stdout",
     "output_type": "stream",
     "text": [
      "3\n"
     ]
    }
   ],
   "source": [
    "print(len(splits))"
   ]
  },
  {
   "cell_type": "code",
   "execution_count": 10,
   "id": "d5d76fe2",
   "metadata": {},
   "outputs": [],
   "source": [
    "from sentence_transformers import SentenceTransformer\n",
    "model = SentenceTransformer(\"sentence-transformers/all-MiniLM-L6-v2\")"
   ]
  },
  {
   "cell_type": "code",
   "execution_count": 11,
   "id": "2ab00128",
   "metadata": {},
   "outputs": [
    {
     "name": "stdout",
     "output_type": "stream",
     "text": [
      "['Revati  Patil  MCA  graduate  with  strong  knowledge  of  frontend  and  backend  development,  eager  to  apply  \\ntechnical\\n \\nskills\\n \\nto\\n \\nreal-world\\n \\nprojects.\\n \\n revatip290@gmail.com   +91  9579412102  g i t h u b . c o m / R e v a t i v P a t i l   l i n k e d i n . c o m / i n / r e v a t i - v - p a t i l /  \\nWORK  EXPERIENCE Humming  Byte  Pvt.Ltd Web  Development  Intern   June  2023  -  Present •  Developed  and  maintained  responsive  full-stack  web  applications  using  Node.js ,  React.js ,  and  modern  \\nframeworks.\\n •  Integrated  Firebase  backend  services,  implementing  secure  authentication  and  real-time  database  \\nfunctionalities.\\n •  Enhanced  UI/UX  with  CSS ,  and  optimized  REST  API  performance  to  improve  application  eﬃciency  by  \\nreducing\\n \\nresponse\\n \\ntime.', 'functionalities.\\n •  Enhanced  UI/UX  with  CSS ,  and  optimized  REST  API  performance  to  improve  application  eﬃciency  by  \\nreducing\\n \\nresponse\\n \\ntime.\\n  EDUCATION MES  Abasaheb  Garware  College,  Pune Master  of  Computer  Application  (MCA)  -  7.16/  10  Aug  2023  -  May  2025  B.S.C  Computer  Science  C.M.C.S.College,  Nashik                                                                                                                    July  2020  -  May  2023  HSC  JR  Khandelwal  College,  Dhule                                                                                                          July  2019  -  June  2020    PROJECT Old  Age  Home  Management  System •  Designed  and  developed  a  Java-based  desktop  application  for  resident  registration,  medication  \\nscheduling,\\n \\nand\\n \\nstaff\\n \\nmanagement.']\n"
     ]
    }
   ],
   "source": [
    "texts = [doc.page_content for doc in splits]\n",
    "print(texts[:2])"
   ]
  },
  {
   "cell_type": "code",
   "execution_count": 12,
   "id": "e864f207",
   "metadata": {},
   "outputs": [
    {
     "name": "stdout",
     "output_type": "stream",
     "text": [
      "✅ Created embeddings of shape: (3, 384)\n"
     ]
    }
   ],
   "source": [
    "embeddings = model.encode(texts, convert_to_numpy=True)\n",
    "print(f\"✅ Created embeddings of shape: {embeddings.shape}\")"
   ]
  },
  {
   "cell_type": "code",
   "execution_count": 13,
   "id": "482766ba",
   "metadata": {},
   "outputs": [
    {
     "name": "stdout",
     "output_type": "stream",
     "text": [
      "✅ Saved 3 chunks into ChromaDB\n"
     ]
    }
   ],
   "source": [
    "import chromadb\n",
    "client = chromadb.PersistentClient(path=\"./chroma_db\")\n",
    "collection = client.get_or_create_collection(name=\"pdf_embeddings\")\n",
    "collection.add(\n",
    "ids=[f\"chunk_{i}\" for i in range(len(texts))],\n",
    "documents=texts,\n",
    "embeddings=embeddings.tolist()\n",
    ")\n",
    "print(f\"✅ Saved {len(texts)} chunks into ChromaDB\")"
   ]
  },
  {
   "cell_type": "code",
   "execution_count": 36,
   "id": "3c0baac8",
   "metadata": {},
   "outputs": [],
   "source": [
    "query = \"Give me education details of revati\""
   ]
  },
  {
   "cell_type": "code",
   "execution_count": 37,
   "id": "80f91fbf",
   "metadata": {},
   "outputs": [],
   "source": [
    "query_embedding = model.encode([query], convert_to_numpy=True)\n",
    "results = collection.query(query_embeddings=query_embedding.tolist(), n_results=5)"
   ]
  },
  {
   "cell_type": "code",
   "execution_count": 38,
   "id": "68a2d1cd",
   "metadata": {},
   "outputs": [
    {
     "name": "stdout",
     "output_type": "stream",
     "text": [
      "\n",
      "🔎 Retrieved Chunks:\n",
      "1. Revati  Patil  MCA  graduate  with  strong  knowledge  of  frontend  and  backend  development,  eager  to  apply  \n",
      "technical\n",
      " \n",
      "skills\n",
      " \n",
      "to\n",
      " \n",
      "real-world\n",
      " \n",
      "projects.\n",
      " \n",
      " revatip290@gmail.com   +91  9579412102  g i t h u b . c o m / R e v a t i v P a t i l   l i n k e d i n . c o m / i n / r e v a t i - v - p a t i l /  \n",
      "WORK  EXPERIENCE Humming  Byte  Pvt.Ltd Web  Development  Intern   June  2023  -  Present •  Developed  and  maintained  responsive  full-stack  web  applications  using  Node.js ,  React.js ,  and  modern  \n",
      "frameworks.\n",
      " •  Integrated  Firebase  backend  services,  implementing  secure  authentication  and  real-time  database  \n",
      "functionalities.\n",
      " •  Enhanced  UI/UX  with  CSS ,  and  optimized  REST  API  performance  to  improve  application  eﬃciency  by  \n",
      "reducing\n",
      " \n",
      "response\n",
      " \n",
      "time.\n",
      "\n",
      "2. functionalities.\n",
      " •  Enhanced  UI/UX  with  CSS ,  and  optimized  REST  API  performance  to  improve  application  eﬃciency  by  \n",
      "reducing\n",
      " \n",
      "response\n",
      " \n",
      "time.\n",
      "  EDUCATION MES  Abasaheb  Garware  College,  Pune Master  of  Computer  Application  (MCA)  -  7.16/  10  Aug  2023  -  May  2025  B.S.C  Computer  Science  C.M.C.S.College,  Nashik                                                                                                                    July  2020  -  May  2023  HSC  JR  Khandelwal  College,  Dhule                                                                                                          July  2019  -  June  2020    PROJECT Old  Age  Home  Management  System •  Designed  and  developed  a  Java-based  desktop  application  for  resident  registration,  medication  \n",
      "scheduling,\n",
      " \n",
      "and\n",
      " \n",
      "staff\n",
      " \n",
      "management.\n",
      "\n",
      "3. scheduling,\n",
      " \n",
      "and\n",
      " \n",
      "staff\n",
      " \n",
      "management.\n",
      " •  Built  a  user-friendly  interface  using  Java  Swing  and  implemented  secure  database  integration  with  JDBC .  •  Automated  manual  workﬂows,  improving  eﬃciency  and  reducing  operational  errors  by  30% \n",
      "Tenant  Management  System •  Developed  a  full-stack  web  application  to  manage  interactions  between  tenants  and  house  owners ,  \n",
      "supporting\n",
      " \n",
      "registration\n",
      " \n",
      "of\n",
      " \n",
      "personal\n",
      " \n",
      "and\n",
      " \n",
      "property\n",
      " \n",
      "details.\n",
      " •  Enabled  house  owners  to  manage  bookings,  track  rent  status,  and  send  automated  payment  reminders  to  \n",
      "tenants\n",
      " •  Implemented  secure  authentication,  responsive  UI,  and  eﬃcient  database  management  for  streamlined  \n",
      "operations.\n",
      "  SKILLS •  Programming  Languages  &  Frameworks:  C/C++,  Java , Node.js,  React.js,  Express.js,  Python  (Beginner)  •  Databases:  MongoDB,  NoSQL  •  Tools:  GitHub,  VS  code  •  Engineering  Practices:  RESTful  APIs,  Responsive  Web  Design,  UI/UX,  Enhancement\n",
      "\n"
     ]
    }
   ],
   "source": [
    "if results[\"documents\"]:\n",
    "    print(\"\\n🔎 Retrieved Chunks:\")\n",
    "for i, doc in enumerate(results[\"documents\"][0]):\n",
    "    print(f\"{i+1}. {doc}\\n\")"
   ]
  },
  {
   "cell_type": "code",
   "execution_count": 39,
   "id": "8458d5e8",
   "metadata": {},
   "outputs": [
    {
     "name": "stdout",
     "output_type": "stream",
     "text": [
      "{'ids': [['chunk_0', 'chunk_1', 'chunk_2']], 'embeddings': None, 'documents': [['Revati  Patil  MCA  graduate  with  strong  knowledge  of  frontend  and  backend  development,  eager  to  apply  \\ntechnical\\n \\nskills\\n \\nto\\n \\nreal-world\\n \\nprojects.\\n \\n revatip290@gmail.com   +91  9579412102  g i t h u b . c o m / R e v a t i v P a t i l   l i n k e d i n . c o m / i n / r e v a t i - v - p a t i l /  \\nWORK  EXPERIENCE Humming  Byte  Pvt.Ltd Web  Development  Intern   June  2023  -  Present •  Developed  and  maintained  responsive  full-stack  web  applications  using  Node.js ,  React.js ,  and  modern  \\nframeworks.\\n •  Integrated  Firebase  backend  services,  implementing  secure  authentication  and  real-time  database  \\nfunctionalities.\\n •  Enhanced  UI/UX  with  CSS ,  and  optimized  REST  API  performance  to  improve  application  eﬃciency  by  \\nreducing\\n \\nresponse\\n \\ntime.', 'functionalities.\\n •  Enhanced  UI/UX  with  CSS ,  and  optimized  REST  API  performance  to  improve  application  eﬃciency  by  \\nreducing\\n \\nresponse\\n \\ntime.\\n  EDUCATION MES  Abasaheb  Garware  College,  Pune Master  of  Computer  Application  (MCA)  -  7.16/  10  Aug  2023  -  May  2025  B.S.C  Computer  Science  C.M.C.S.College,  Nashik                                                                                                                    July  2020  -  May  2023  HSC  JR  Khandelwal  College,  Dhule                                                                                                          July  2019  -  June  2020    PROJECT Old  Age  Home  Management  System •  Designed  and  developed  a  Java-based  desktop  application  for  resident  registration,  medication  \\nscheduling,\\n \\nand\\n \\nstaff\\n \\nmanagement.', 'scheduling,\\n \\nand\\n \\nstaff\\n \\nmanagement.\\n •  Built  a  user-friendly  interface  using  Java  Swing  and  implemented  secure  database  integration  with  JDBC .  •  Automated  manual  workﬂows,  improving  eﬃciency  and  reducing  operational  errors  by  30% \\nTenant  Management  System •  Developed  a  full-stack  web  application  to  manage  interactions  between  tenants  and  house  owners ,  \\nsupporting\\n \\nregistration\\n \\nof\\n \\npersonal\\n \\nand\\n \\nproperty\\n \\ndetails.\\n •  Enabled  house  owners  to  manage  bookings,  track  rent  status,  and  send  automated  payment  reminders  to  \\ntenants\\n •  Implemented  secure  authentication,  responsive  UI,  and  eﬃcient  database  management  for  streamlined  \\noperations.\\n  SKILLS •  Programming  Languages  &  Frameworks:  C/C++,  Java , Node.js,  React.js,  Express.js,  Python  (Beginner)  •  Databases:  MongoDB,  NoSQL  •  Tools:  GitHub,  VS  code  •  Engineering  Practices:  RESTful  APIs,  Responsive  Web  Design,  UI/UX,  Enhancement']], 'uris': None, 'included': ['metadatas', 'documents', 'distances'], 'data': None, 'metadatas': [[None, None, None]], 'distances': [[1.3837287425994873, 1.5280590057373047, 1.651163101196289]]}\n"
     ]
    }
   ],
   "source": [
    "print(results)"
   ]
  },
  {
   "cell_type": "code",
   "execution_count": 40,
   "id": "d3f0029e",
   "metadata": {},
   "outputs": [],
   "source": [
    "joined_text = \"\\n\\n\".join(results['documents'][0])\n",
    "prompt = f\"Please rephrase the following text to be a clear, concise answer:\\n\\n{joined_text}\""
   ]
  },
  {
   "cell_type": "code",
   "execution_count": 41,
   "id": "fd3631e9",
   "metadata": {},
   "outputs": [],
   "source": [
    "from google import genai"
   ]
  },
  {
   "cell_type": "code",
   "execution_count": 42,
   "id": "1b545a47",
   "metadata": {},
   "outputs": [],
   "source": [
    "from google import genai\n",
    "import os\n",
    "\n",
    "\n",
    "api_key = os.environ.get(\"GENAI_API_KEY\")\n",
    "if not api_key:\n",
    "# Fallback: manually paste your key here if env variable is not set\n",
    "    api_key = \"AIzaSyGtupu_HpFO2OUudVL1x-HYsJBRX1NxRE\" # <-- replace this only for quick testing\n",
    "\n",
    "\n",
    "if not api_key or api_key.startswith(\"PASTE\"):\n",
    "    raise ValueError(\"No valid API key found. Set GENAI_API_KEY environment variable or paste key above.\")\n",
    "\n",
    "\n",
    "client = genai.Client(api_key=api_key)"
   ]
  },
  {
   "cell_type": "code",
   "execution_count": null,
   "id": "ba88d94d",
   "metadata": {},
   "outputs": [
    {
     "name": "stdout",
     "output_type": "stream",
     "text": [
      "\n",
      "🤖 Final Answer:\n",
      " Revati Patil is a recent MCA graduate with strong full-stack development skills (Node.js, React.js, MongoDB) and experience building web applications and Java-based desktop applications. She interned at Humming Byte Pvt. Ltd., where she developed and maintained full-stack web applications, integrated Firebase backend services, and optimized REST API performance. She also has project experience in developing management systems using Java and full-stack web technologies. (Contact: revatip290@gmail.com, +91 9579412102, github.com/RevatiVPatil, linkedin.com/in/revati-v-patil/)\n",
      "\n"
     ]
    }
   ],
   "source": [
    "response = client.models.generate_content(model=\"gemini-2.0-flash\", contents=prompt)\n",
    "if response:\n",
    "    print(\"\\n🤖 Final Answer:\\n\", response.text)"
   ]
  },
  {
   "cell_type": "code",
   "execution_count": null,
   "id": "5c6c92c5",
   "metadata": {},
   "outputs": [],
   "source": []
  }
 ],
 "metadata": {
  "kernelspec": {
   "display_name": "Python 3",
   "language": "python",
   "name": "python3"
  },
  "language_info": {
   "codemirror_mode": {
    "name": "ipython",
    "version": 3
   },
   "file_extension": ".py",
   "mimetype": "text/x-python",
   "name": "python",
   "nbconvert_exporter": "python",
   "pygments_lexer": "ipython3",
   "version": "3.13.6"
  }
 },
 "nbformat": 4,
 "nbformat_minor": 5
}
