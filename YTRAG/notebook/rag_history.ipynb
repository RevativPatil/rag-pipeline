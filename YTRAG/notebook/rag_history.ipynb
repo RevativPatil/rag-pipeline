{
 "cells": [
  {
   "cell_type": "code",
   "execution_count": 16,
   "id": "f0675512",
   "metadata": {},
   "outputs": [
    {
     "name": "stdout",
     "output_type": "stream",
     "text": [
      "Collecting PyPDF2\n",
      "  Downloading pypdf2-3.0.1-py3-none-any.whl.metadata (6.8 kB)\n",
      "Downloading pypdf2-3.0.1-py3-none-any.whl (232 kB)\n",
      "Installing collected packages: PyPDF2\n",
      "Successfully installed PyPDF2-3.0.1\n"
     ]
    }
   ],
   "source": [
    "!pip3 install PyPDF2"
   ]
  },
  {
   "cell_type": "code",
   "execution_count": 18,
   "id": "16b0060b",
   "metadata": {},
   "outputs": [],
   "source": [
    "from sentence_transformers import SentenceTransformer\n",
    "from langchain.text_splitter import RecursiveCharacterTextSplitter\n",
    "import chromadb\n",
    "import os\n",
    "from google import genai\n",
    "from google.genai import types\n",
    "from PyPDF2 import PdfReader\n",
    "\n"
   ]
  },
  {
   "cell_type": "code",
   "execution_count": 19,
   "id": "f7e26a80",
   "metadata": {},
   "outputs": [],
   "source": [
    "embed_model = SentenceTransformer(\"sentence-transformers/all-MiniLM-L6-v2\")"
   ]
  },
  {
   "cell_type": "code",
   "execution_count": 20,
   "id": "67af74c6",
   "metadata": {},
   "outputs": [],
   "source": [
    "client_chroma = chromadb.PersistentClient(path=\"./chroma_db\")\n",
    "collection = client_chroma.get_or_create_collection(name=\"docs_embeddings\")"
   ]
  },
  {
   "cell_type": "code",
   "execution_count": 21,
   "id": "22358522",
   "metadata": {},
   "outputs": [],
   "source": [
    "gemini_client = genai.Client(api_key=\"AIzaSyrwEPthISSN0ZkBLoy9PG9PTDPp2hFQ0\")"
   ]
  },
  {
   "cell_type": "code",
   "execution_count": 22,
   "id": "b025e7c7",
   "metadata": {},
   "outputs": [],
   "source": [
    "chat_history = []"
   ]
  },
  {
   "cell_type": "code",
   "execution_count": 23,
   "id": "63d85e85",
   "metadata": {},
   "outputs": [],
   "source": [
    "def load_pdf_to_chroma(pdf_path: str, chunk_size: int = 500, overlap: int = 50):\n",
    "    \"\"\"Load PDF, split into chunks, embed, and add to ChromaDB\"\"\"\n",
    "    reader = PdfReader(\"/Users/vrushalipatil/Downloads/Revati_Resume.pdf\")\n",
    "    raw_text = \"\"\n",
    "    for page in reader.pages:\n",
    "        raw_text += page.extract_text() + \"\\n\"\n",
    "\n",
    "    # Split text into chunks\n",
    "    splitter = RecursiveCharacterTextSplitter(\n",
    "        chunk_size=chunk_size,\n",
    "        chunk_overlap=overlap\n",
    "    )\n",
    "    chunks = splitter.split_text(raw_text)\n",
    "\n",
    "    # Embed and store in Chroma\n",
    "    embeddings = embed_model.encode(chunks, convert_to_numpy=True).tolist()\n",
    "    for i, (chunk, emb) in enumerate(zip(chunks, embeddings)):\n",
    "        collection.add(\n",
    "            ids=[f\"doc_{i}\"],\n",
    "            documents=[chunk],\n",
    "            embeddings=[emb]\n",
    "        )\n",
    "    print(f\"✅ Loaded {len(chunks)} chunks into ChromaDB\")"
   ]
  },
  {
   "cell_type": "code",
   "execution_count": 24,
   "id": "4a3ffceb",
   "metadata": {},
   "outputs": [],
   "source": [
    "def add_to_history(role: str, content: str):\n",
    "    chat_history.append({\"role\": role, \"content\": content})"
   ]
  },
  {
   "cell_type": "code",
   "execution_count": 25,
   "id": "33a8e939",
   "metadata": {},
   "outputs": [],
   "source": [
    "def get_history_context(max_turns: int = 3) -> str:\n",
    "    recent = chat_history[-max_turns * 2 :]\n",
    "    return \"\\n\".join([f\"{msg['role'].capitalize()}: {msg['content']}\" for msg in recent])"
   ]
  },
  {
   "cell_type": "code",
   "execution_count": 26,
   "id": "9fca53bc",
   "metadata": {},
   "outputs": [],
   "source": [
    "def get_top_chunks(query: str, top_k: int = 2):\n",
    "    query_emb = embed_model.encode([query], convert_to_numpy=True)\n",
    "    results = collection.query(\n",
    "        query_embeddings=query_emb.tolist(),\n",
    "        n_results=top_k\n",
    "    )\n",
    "    return results[\"documents\"][0] if results[\"documents\"] else []\n"
   ]
  },
  {
   "cell_type": "code",
   "execution_count": 27,
   "id": "90e3864d",
   "metadata": {},
   "outputs": [],
   "source": [
    "def rephrase_with_gemini(query: str, retrieved_chunks: list, history: str = \"\") -> str:\n",
    "    context = \"\\n\".join(retrieved_chunks)\n",
    "    user_prompt = f\"\"\"\n",
    "You are a helpful assistant.\n",
    "\n",
    "Chat history (for context):\n",
    "{history}\n",
    "\n",
    "User question:\n",
    "{query}\n",
    "\n",
    "Relevant context from documents:\n",
    "{context}\n",
    "\n",
    "Task: Provide a clear, concise, user-friendly answer. Rephrase in your own words, don't copy chunks verbatim.\n",
    "\"\"\"\n",
    "\n",
    "    response = gemini_client.models.generate_content(\n",
    "        model=\"gemini-2.0-flash\",\n",
    "        contents=[types.Content(role=\"user\", parts=[types.Part(text=user_prompt)])]\n",
    "    )\n",
    "\n",
    "    candidate = response.candidates[0]\n",
    "    rephrased = \"\".join([p.text for p in candidate.content.parts if p.text])\n",
    "    return rephrased.strip()\n"
   ]
  },
  {
   "cell_type": "code",
   "execution_count": 28,
   "id": "c37373c4",
   "metadata": {},
   "outputs": [],
   "source": [
    "def answer_query(user_query: str, top_k: int = 2) -> str:\n",
    "    chunks = get_top_chunks(user_query, top_k=top_k)\n",
    "    history_text = get_history_context(max_turns=3)\n",
    "    answer = rephrase_with_gemini(user_query, chunks, history_text)\n",
    "\n",
    "    add_to_history(\"user\", user_query)\n",
    "    add_to_history(\"assistant\", answer)\n",
    "    return answer"
   ]
  },
  {
   "cell_type": "code",
   "execution_count": 33,
   "id": "5c2598a1",
   "metadata": {},
   "outputs": [
    {
     "name": "stdout",
     "output_type": "stream",
     "text": [
      "✅ Loaded 6 chunks into ChromaDB\n",
      "User: Who is narendra modi?\n",
      "Assistant: I'm sorry, but I don't have information about Narendra Modi in the documents I have access to. My information is limited to Revati Patil and the Machine Learning course taught by Keerti. \n",
      "\n",
      "User: give me the email?\n",
      "Assistant: Revati Patil's email address is revatip290@gmail.com. \n",
      "\n",
      "\n",
      "📜 Chat History:\n",
      "User: What is the main topic of this PDF?\n",
      "Assistant: The PDF is about a Machine Learning course taught by Keerti. It seems to cover a wide range of topics, from the basics of neural networks to more advanced models like CNNs, RNNs, and transformers. The course is designed to be easy to understand, even for complex topics, and is recommended for anyone interested in AI and ML, regardless of their experience level.\n",
      "User: Can you explain it in simpler terms?\n",
      "Assistant: Essentially, the PDF describes a Machine Learning course taught by Keerti that's designed to be easy to grasp, even if you're new to the field. It covers everything from basic neural networks to more complex AI models like those used in image and language processing. People who've taken it say it's helped them understand the fundamentals, boosted their confidence with AI, and made it easier to keep up with the latest developments. It's highly recommended for anyone interested in AI and Machine Learning.\n",
      "User: Who is revati patil?\n",
      "Assistant: Revati Patil is an MCA graduate with a strong understanding of both frontend and backend development. She's looking to use her technical skills on real-world projects. She was a Web Development Intern at Humming Byte Pvt. Ltd. starting in June 2023. You can find her on GitHub and LinkedIn.\n",
      "User: give me the email?\n",
      "Assistant: Revati Patil's email address is revatip290@gmail.com.\n",
      "User: Who is narendra modi?\n",
      "Assistant: I'm sorry, but I don't have information about Narendra Modi in the documents I have access to. My information is limited to Revati Patil and the Machine Learning course taught by Keerti.\n",
      "User: give me the email?\n",
      "Assistant: Revati Patil's email address is revatip290@gmail.com.\n"
     ]
    }
   ],
   "source": [
    "if __name__ == \"__main__\":\n",
    "    # Load your PDF first (run only once per PDF)\n",
    "    load_pdf_to_chroma(\"Users/vrushalipatil/Downloads/Revati_Resume.pdf\")\n",
    "\n",
    "    # Ask questions\n",
    "    q1 = \"Who is narendra modi?\"\n",
    "    print(\"User:\", q1)\n",
    "    a1 = answer_query(q1)\n",
    "    print(\"Assistant:\", a1, \"\\n\")\n",
    "\n",
    "    q2 = \"give me the email?\"\n",
    "    print(\"User:\", q2)\n",
    "    a2 = answer_query(q2)\n",
    "    print(\"Assistant:\", a2, \"\\n\")\n",
    "\n",
    "    # Print chat history\n",
    "    print(\"\\n📜 Chat History:\")\n",
    "    for turn in chat_history:\n",
    "        print(f\"{turn['role'].capitalize()}: {turn['content']}\")\n"
   ]
  },
  {
   "cell_type": "code",
   "execution_count": null,
   "id": "980ce265",
   "metadata": {},
   "outputs": [],
   "source": []
  }
 ],
 "metadata": {
  "kernelspec": {
   "display_name": "Python 3",
   "language": "python",
   "name": "python3"
  },
  "language_info": {
   "codemirror_mode": {
    "name": "ipython",
    "version": 3
   },
   "file_extension": ".py",
   "mimetype": "text/x-python",
   "name": "python",
   "nbconvert_exporter": "python",
   "pygments_lexer": "ipython3",
   "version": "3.13.6"
  }
 },
 "nbformat": 4,
 "nbformat_minor": 5
}
